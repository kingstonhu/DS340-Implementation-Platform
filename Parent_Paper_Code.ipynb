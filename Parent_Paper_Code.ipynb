{
  "cells": [
    {
      "metadata": {
        "trusted": true,
        "id": "GmFBRliZIWe0"
      },
      "cell_type": "code",
      "source": [
        "import pandas as pd\n",
        "import numpy as np\n",
        "import warnings\n",
        "warnings.filterwarnings(\"ignore\")"
      ],
      "execution_count": 10,
      "outputs": []
    },
    {
      "metadata": {
        "trusted": true,
        "id": "-6-tDijRIWe2"
      },
      "cell_type": "code",
      "source": [
        "df=pd.read_csv(\"CTG.csv\")"
      ],
      "execution_count": 11,
      "outputs": []
    },
    {
      "metadata": {
        "trusted": true,
        "id": "KuqHjo_SIWe2",
        "outputId": "d3952ef0-56c7-4695-b6e4-081eda5491fd",
        "colab": {
          "base_uri": "https://localhost:8080/",
          "height": 297
        }
      },
      "cell_type": "code",
      "source": [
        "df.head()"
      ],
      "execution_count": 12,
      "outputs": [
        {
          "output_type": "execute_result",
          "data": {
            "text/plain": [
              "       FileName     Date      SegFile      b       e    LBE     LB   AC   FM  \\\n",
              "0  Variab10.txt  12/1/96  CTG0001.txt  240.0   357.0  120.0  120.0  0.0  0.0   \n",
              "1    Fmcs_1.txt   5/3/96  CTG0002.txt    5.0   632.0  132.0  132.0  4.0  0.0   \n",
              "2    Fmcs_1.txt   5/3/96  CTG0003.txt  177.0   779.0  133.0  133.0  2.0  0.0   \n",
              "3    Fmcs_1.txt   5/3/96  CTG0004.txt  411.0  1192.0  134.0  134.0  2.0  0.0   \n",
              "4    Fmcs_1.txt   5/3/96  CTG0005.txt  533.0  1147.0  132.0  132.0  4.0  0.0   \n",
              "\n",
              "    UC  ...    C    D    E   AD   DE   LD   FS  SUSP  CLASS  NSP  \n",
              "0  0.0  ...  0.0  0.0  0.0  0.0  0.0  0.0  1.0   0.0    9.0  2.0  \n",
              "1  4.0  ...  0.0  0.0  0.0  1.0  0.0  0.0  0.0   0.0    6.0  1.0  \n",
              "2  5.0  ...  0.0  0.0  0.0  1.0  0.0  0.0  0.0   0.0    6.0  1.0  \n",
              "3  6.0  ...  0.0  0.0  0.0  1.0  0.0  0.0  0.0   0.0    6.0  1.0  \n",
              "4  5.0  ...  0.0  0.0  0.0  0.0  0.0  0.0  0.0   0.0    2.0  1.0  \n",
              "\n",
              "[5 rows x 40 columns]"
            ],
            "text/html": [
              "\n",
              "  <div id=\"df-33274a13-494f-44b3-bc45-0231c1394c39\">\n",
              "    <div class=\"colab-df-container\">\n",
              "      <div>\n",
              "<style scoped>\n",
              "    .dataframe tbody tr th:only-of-type {\n",
              "        vertical-align: middle;\n",
              "    }\n",
              "\n",
              "    .dataframe tbody tr th {\n",
              "        vertical-align: top;\n",
              "    }\n",
              "\n",
              "    .dataframe thead th {\n",
              "        text-align: right;\n",
              "    }\n",
              "</style>\n",
              "<table border=\"1\" class=\"dataframe\">\n",
              "  <thead>\n",
              "    <tr style=\"text-align: right;\">\n",
              "      <th></th>\n",
              "      <th>FileName</th>\n",
              "      <th>Date</th>\n",
              "      <th>SegFile</th>\n",
              "      <th>b</th>\n",
              "      <th>e</th>\n",
              "      <th>LBE</th>\n",
              "      <th>LB</th>\n",
              "      <th>AC</th>\n",
              "      <th>FM</th>\n",
              "      <th>UC</th>\n",
              "      <th>...</th>\n",
              "      <th>C</th>\n",
              "      <th>D</th>\n",
              "      <th>E</th>\n",
              "      <th>AD</th>\n",
              "      <th>DE</th>\n",
              "      <th>LD</th>\n",
              "      <th>FS</th>\n",
              "      <th>SUSP</th>\n",
              "      <th>CLASS</th>\n",
              "      <th>NSP</th>\n",
              "    </tr>\n",
              "  </thead>\n",
              "  <tbody>\n",
              "    <tr>\n",
              "      <th>0</th>\n",
              "      <td>Variab10.txt</td>\n",
              "      <td>12/1/96</td>\n",
              "      <td>CTG0001.txt</td>\n",
              "      <td>240.0</td>\n",
              "      <td>357.0</td>\n",
              "      <td>120.0</td>\n",
              "      <td>120.0</td>\n",
              "      <td>0.0</td>\n",
              "      <td>0.0</td>\n",
              "      <td>0.0</td>\n",
              "      <td>...</td>\n",
              "      <td>0.0</td>\n",
              "      <td>0.0</td>\n",
              "      <td>0.0</td>\n",
              "      <td>0.0</td>\n",
              "      <td>0.0</td>\n",
              "      <td>0.0</td>\n",
              "      <td>1.0</td>\n",
              "      <td>0.0</td>\n",
              "      <td>9.0</td>\n",
              "      <td>2.0</td>\n",
              "    </tr>\n",
              "    <tr>\n",
              "      <th>1</th>\n",
              "      <td>Fmcs_1.txt</td>\n",
              "      <td>5/3/96</td>\n",
              "      <td>CTG0002.txt</td>\n",
              "      <td>5.0</td>\n",
              "      <td>632.0</td>\n",
              "      <td>132.0</td>\n",
              "      <td>132.0</td>\n",
              "      <td>4.0</td>\n",
              "      <td>0.0</td>\n",
              "      <td>4.0</td>\n",
              "      <td>...</td>\n",
              "      <td>0.0</td>\n",
              "      <td>0.0</td>\n",
              "      <td>0.0</td>\n",
              "      <td>1.0</td>\n",
              "      <td>0.0</td>\n",
              "      <td>0.0</td>\n",
              "      <td>0.0</td>\n",
              "      <td>0.0</td>\n",
              "      <td>6.0</td>\n",
              "      <td>1.0</td>\n",
              "    </tr>\n",
              "    <tr>\n",
              "      <th>2</th>\n",
              "      <td>Fmcs_1.txt</td>\n",
              "      <td>5/3/96</td>\n",
              "      <td>CTG0003.txt</td>\n",
              "      <td>177.0</td>\n",
              "      <td>779.0</td>\n",
              "      <td>133.0</td>\n",
              "      <td>133.0</td>\n",
              "      <td>2.0</td>\n",
              "      <td>0.0</td>\n",
              "      <td>5.0</td>\n",
              "      <td>...</td>\n",
              "      <td>0.0</td>\n",
              "      <td>0.0</td>\n",
              "      <td>0.0</td>\n",
              "      <td>1.0</td>\n",
              "      <td>0.0</td>\n",
              "      <td>0.0</td>\n",
              "      <td>0.0</td>\n",
              "      <td>0.0</td>\n",
              "      <td>6.0</td>\n",
              "      <td>1.0</td>\n",
              "    </tr>\n",
              "    <tr>\n",
              "      <th>3</th>\n",
              "      <td>Fmcs_1.txt</td>\n",
              "      <td>5/3/96</td>\n",
              "      <td>CTG0004.txt</td>\n",
              "      <td>411.0</td>\n",
              "      <td>1192.0</td>\n",
              "      <td>134.0</td>\n",
              "      <td>134.0</td>\n",
              "      <td>2.0</td>\n",
              "      <td>0.0</td>\n",
              "      <td>6.0</td>\n",
              "      <td>...</td>\n",
              "      <td>0.0</td>\n",
              "      <td>0.0</td>\n",
              "      <td>0.0</td>\n",
              "      <td>1.0</td>\n",
              "      <td>0.0</td>\n",
              "      <td>0.0</td>\n",
              "      <td>0.0</td>\n",
              "      <td>0.0</td>\n",
              "      <td>6.0</td>\n",
              "      <td>1.0</td>\n",
              "    </tr>\n",
              "    <tr>\n",
              "      <th>4</th>\n",
              "      <td>Fmcs_1.txt</td>\n",
              "      <td>5/3/96</td>\n",
              "      <td>CTG0005.txt</td>\n",
              "      <td>533.0</td>\n",
              "      <td>1147.0</td>\n",
              "      <td>132.0</td>\n",
              "      <td>132.0</td>\n",
              "      <td>4.0</td>\n",
              "      <td>0.0</td>\n",
              "      <td>5.0</td>\n",
              "      <td>...</td>\n",
              "      <td>0.0</td>\n",
              "      <td>0.0</td>\n",
              "      <td>0.0</td>\n",
              "      <td>0.0</td>\n",
              "      <td>0.0</td>\n",
              "      <td>0.0</td>\n",
              "      <td>0.0</td>\n",
              "      <td>0.0</td>\n",
              "      <td>2.0</td>\n",
              "      <td>1.0</td>\n",
              "    </tr>\n",
              "  </tbody>\n",
              "</table>\n",
              "<p>5 rows × 40 columns</p>\n",
              "</div>\n",
              "      <button class=\"colab-df-convert\" onclick=\"convertToInteractive('df-33274a13-494f-44b3-bc45-0231c1394c39')\"\n",
              "              title=\"Convert this dataframe to an interactive table.\"\n",
              "              style=\"display:none;\">\n",
              "        \n",
              "  <svg xmlns=\"http://www.w3.org/2000/svg\" height=\"24px\"viewBox=\"0 0 24 24\"\n",
              "       width=\"24px\">\n",
              "    <path d=\"M0 0h24v24H0V0z\" fill=\"none\"/>\n",
              "    <path d=\"M18.56 5.44l.94 2.06.94-2.06 2.06-.94-2.06-.94-.94-2.06-.94 2.06-2.06.94zm-11 1L8.5 8.5l.94-2.06 2.06-.94-2.06-.94L8.5 2.5l-.94 2.06-2.06.94zm10 10l.94 2.06.94-2.06 2.06-.94-2.06-.94-.94-2.06-.94 2.06-2.06.94z\"/><path d=\"M17.41 7.96l-1.37-1.37c-.4-.4-.92-.59-1.43-.59-.52 0-1.04.2-1.43.59L10.3 9.45l-7.72 7.72c-.78.78-.78 2.05 0 2.83L4 21.41c.39.39.9.59 1.41.59.51 0 1.02-.2 1.41-.59l7.78-7.78 2.81-2.81c.8-.78.8-2.07 0-2.86zM5.41 20L4 18.59l7.72-7.72 1.47 1.35L5.41 20z\"/>\n",
              "  </svg>\n",
              "      </button>\n",
              "      \n",
              "  <style>\n",
              "    .colab-df-container {\n",
              "      display:flex;\n",
              "      flex-wrap:wrap;\n",
              "      gap: 12px;\n",
              "    }\n",
              "\n",
              "    .colab-df-convert {\n",
              "      background-color: #E8F0FE;\n",
              "      border: none;\n",
              "      border-radius: 50%;\n",
              "      cursor: pointer;\n",
              "      display: none;\n",
              "      fill: #1967D2;\n",
              "      height: 32px;\n",
              "      padding: 0 0 0 0;\n",
              "      width: 32px;\n",
              "    }\n",
              "\n",
              "    .colab-df-convert:hover {\n",
              "      background-color: #E2EBFA;\n",
              "      box-shadow: 0px 1px 2px rgba(60, 64, 67, 0.3), 0px 1px 3px 1px rgba(60, 64, 67, 0.15);\n",
              "      fill: #174EA6;\n",
              "    }\n",
              "\n",
              "    [theme=dark] .colab-df-convert {\n",
              "      background-color: #3B4455;\n",
              "      fill: #D2E3FC;\n",
              "    }\n",
              "\n",
              "    [theme=dark] .colab-df-convert:hover {\n",
              "      background-color: #434B5C;\n",
              "      box-shadow: 0px 1px 3px 1px rgba(0, 0, 0, 0.15);\n",
              "      filter: drop-shadow(0px 1px 2px rgba(0, 0, 0, 0.3));\n",
              "      fill: #FFFFFF;\n",
              "    }\n",
              "  </style>\n",
              "\n",
              "      <script>\n",
              "        const buttonEl =\n",
              "          document.querySelector('#df-33274a13-494f-44b3-bc45-0231c1394c39 button.colab-df-convert');\n",
              "        buttonEl.style.display =\n",
              "          google.colab.kernel.accessAllowed ? 'block' : 'none';\n",
              "\n",
              "        async function convertToInteractive(key) {\n",
              "          const element = document.querySelector('#df-33274a13-494f-44b3-bc45-0231c1394c39');\n",
              "          const dataTable =\n",
              "            await google.colab.kernel.invokeFunction('convertToInteractive',\n",
              "                                                     [key], {});\n",
              "          if (!dataTable) return;\n",
              "\n",
              "          const docLinkHtml = 'Like what you see? Visit the ' +\n",
              "            '<a target=\"_blank\" href=https://colab.research.google.com/notebooks/data_table.ipynb>data table notebook</a>'\n",
              "            + ' to learn more about interactive tables.';\n",
              "          element.innerHTML = '';\n",
              "          dataTable['output_type'] = 'display_data';\n",
              "          await google.colab.output.renderOutput(dataTable, element);\n",
              "          const docLink = document.createElement('div');\n",
              "          docLink.innerHTML = docLinkHtml;\n",
              "          element.appendChild(docLink);\n",
              "        }\n",
              "      </script>\n",
              "    </div>\n",
              "  </div>\n",
              "  "
            ]
          },
          "metadata": {},
          "execution_count": 12
        }
      ]
    },
    {
      "metadata": {
        "id": "XRuOtxv_IWe3"
      },
      "cell_type": "markdown",
      "source": [
        "## FileName:\tof CTG examination\t\n",
        "## Date:\tof the examination\t\n",
        "## b:\tstart instant\t\n",
        "## e:\tend instant\t\n",
        "## LBE:\tbaseline value (medical expert)\t\n",
        "## LB:\tbaseline value (SisPorto)\t\n",
        "## AC:\taccelerations (SisPorto)\t\n",
        "## FM:\tfoetal movement (SisPorto)\t\n",
        "## UC:\tuterine contractions (SisPorto)\t\n",
        "## ASTV:\tpercentage of time with abnormal short term variability  (SisPorto)\t\n",
        "## mSTV:\tmean value of short term variability  (SisPorto)\t\n",
        "## ALTV:\tpercentage of time with abnormal long term variability  (SisPorto)\t\n",
        "## mLTV:\tmean value of long term variability  (SisPorto)\t\n",
        "## DL:\tlight decelerations\t\n",
        "## DS:\tsevere decelerations\t\n",
        "## DP:\tprolongued decelerations\t\n",
        "## DR:\trepetitive decelerations\t\n",
        "## Width:\thistogram width\t\n",
        "## Min:\tlow freq. of the histogram\t\n",
        "## Max:\thigh freq. of the histogram\t\n",
        "## Nmax:\tnumber of histogram peaks\t\n",
        "## Nzeros:\tnumber of histogram zeros\t\n",
        "## Mode:\thistogram mode\t\n",
        "## Mean:\thistogram mean\t\n",
        "## Median:\thistogram median\t\n",
        "## Variance:\thistogram variance\t\n",
        "## Tendency:\thistogram tendency: -1=left assymetric; 0=symmetric; 1=right assymetric\t\n",
        "## A:\tcalm sleep\t\n",
        "## B:\tREM sleep\t\n",
        "## C:\tcalm vigilance\t\n",
        "## D:\tactive vigilance\t\n",
        "## SH:\tshift pattern (A or Susp with shifts)\t\n",
        "## AD:\taccelerative/decelerative pattern (stress situation)\t\n",
        "## DE:\tdecelerative pattern (vagal stimulation)\t\n",
        "## LD:\tlargely decelerative pattern\t\n",
        "## FS:\tflat-sinusoidal pattern (pathological state)\t\n",
        "## SUSP:\tsuspect pattern\t\n",
        "## CLASS:\tClass code (1 to 10) for classes A to SUSP\t\n",
        "## NSP:\tNormal=1; Suspect=2; Pathologic=3\t\n"
      ]
    },
    {
      "metadata": {
        "trusted": true,
        "id": "jxkPs9RpIWe5"
      },
      "cell_type": "code",
      "source": [
        "df=df.drop([\"FileName\",\"Date\",\"SegFile\",\"b\",\"e\"],axis=1)"
      ],
      "execution_count": 13,
      "outputs": []
    },
    {
      "metadata": {
        "trusted": true,
        "id": "hILttj01IWe6",
        "outputId": "1bceed31-67e9-4973-8ecf-6d1355599ef2",
        "colab": {
          "base_uri": "https://localhost:8080/",
          "height": 297
        }
      },
      "cell_type": "code",
      "source": [
        "df.head()"
      ],
      "execution_count": 14,
      "outputs": [
        {
          "output_type": "execute_result",
          "data": {
            "text/plain": [
              "     LBE     LB   AC   FM   UC  ASTV  MSTV  ALTV  MLTV   DL  ...    C    D  \\\n",
              "0  120.0  120.0  0.0  0.0  0.0  73.0   0.5  43.0   2.4  0.0  ...  0.0  0.0   \n",
              "1  132.0  132.0  4.0  0.0  4.0  17.0   2.1   0.0  10.4  2.0  ...  0.0  0.0   \n",
              "2  133.0  133.0  2.0  0.0  5.0  16.0   2.1   0.0  13.4  2.0  ...  0.0  0.0   \n",
              "3  134.0  134.0  2.0  0.0  6.0  16.0   2.4   0.0  23.0  2.0  ...  0.0  0.0   \n",
              "4  132.0  132.0  4.0  0.0  5.0  16.0   2.4   0.0  19.9  0.0  ...  0.0  0.0   \n",
              "\n",
              "     E   AD   DE   LD   FS  SUSP  CLASS  NSP  \n",
              "0  0.0  0.0  0.0  0.0  1.0   0.0    9.0  2.0  \n",
              "1  0.0  1.0  0.0  0.0  0.0   0.0    6.0  1.0  \n",
              "2  0.0  1.0  0.0  0.0  0.0   0.0    6.0  1.0  \n",
              "3  0.0  1.0  0.0  0.0  0.0   0.0    6.0  1.0  \n",
              "4  0.0  0.0  0.0  0.0  0.0   0.0    2.0  1.0  \n",
              "\n",
              "[5 rows x 35 columns]"
            ],
            "text/html": [
              "\n",
              "  <div id=\"df-e73b8d72-3be8-48c9-8cd8-2125ed555a09\">\n",
              "    <div class=\"colab-df-container\">\n",
              "      <div>\n",
              "<style scoped>\n",
              "    .dataframe tbody tr th:only-of-type {\n",
              "        vertical-align: middle;\n",
              "    }\n",
              "\n",
              "    .dataframe tbody tr th {\n",
              "        vertical-align: top;\n",
              "    }\n",
              "\n",
              "    .dataframe thead th {\n",
              "        text-align: right;\n",
              "    }\n",
              "</style>\n",
              "<table border=\"1\" class=\"dataframe\">\n",
              "  <thead>\n",
              "    <tr style=\"text-align: right;\">\n",
              "      <th></th>\n",
              "      <th>LBE</th>\n",
              "      <th>LB</th>\n",
              "      <th>AC</th>\n",
              "      <th>FM</th>\n",
              "      <th>UC</th>\n",
              "      <th>ASTV</th>\n",
              "      <th>MSTV</th>\n",
              "      <th>ALTV</th>\n",
              "      <th>MLTV</th>\n",
              "      <th>DL</th>\n",
              "      <th>...</th>\n",
              "      <th>C</th>\n",
              "      <th>D</th>\n",
              "      <th>E</th>\n",
              "      <th>AD</th>\n",
              "      <th>DE</th>\n",
              "      <th>LD</th>\n",
              "      <th>FS</th>\n",
              "      <th>SUSP</th>\n",
              "      <th>CLASS</th>\n",
              "      <th>NSP</th>\n",
              "    </tr>\n",
              "  </thead>\n",
              "  <tbody>\n",
              "    <tr>\n",
              "      <th>0</th>\n",
              "      <td>120.0</td>\n",
              "      <td>120.0</td>\n",
              "      <td>0.0</td>\n",
              "      <td>0.0</td>\n",
              "      <td>0.0</td>\n",
              "      <td>73.0</td>\n",
              "      <td>0.5</td>\n",
              "      <td>43.0</td>\n",
              "      <td>2.4</td>\n",
              "      <td>0.0</td>\n",
              "      <td>...</td>\n",
              "      <td>0.0</td>\n",
              "      <td>0.0</td>\n",
              "      <td>0.0</td>\n",
              "      <td>0.0</td>\n",
              "      <td>0.0</td>\n",
              "      <td>0.0</td>\n",
              "      <td>1.0</td>\n",
              "      <td>0.0</td>\n",
              "      <td>9.0</td>\n",
              "      <td>2.0</td>\n",
              "    </tr>\n",
              "    <tr>\n",
              "      <th>1</th>\n",
              "      <td>132.0</td>\n",
              "      <td>132.0</td>\n",
              "      <td>4.0</td>\n",
              "      <td>0.0</td>\n",
              "      <td>4.0</td>\n",
              "      <td>17.0</td>\n",
              "      <td>2.1</td>\n",
              "      <td>0.0</td>\n",
              "      <td>10.4</td>\n",
              "      <td>2.0</td>\n",
              "      <td>...</td>\n",
              "      <td>0.0</td>\n",
              "      <td>0.0</td>\n",
              "      <td>0.0</td>\n",
              "      <td>1.0</td>\n",
              "      <td>0.0</td>\n",
              "      <td>0.0</td>\n",
              "      <td>0.0</td>\n",
              "      <td>0.0</td>\n",
              "      <td>6.0</td>\n",
              "      <td>1.0</td>\n",
              "    </tr>\n",
              "    <tr>\n",
              "      <th>2</th>\n",
              "      <td>133.0</td>\n",
              "      <td>133.0</td>\n",
              "      <td>2.0</td>\n",
              "      <td>0.0</td>\n",
              "      <td>5.0</td>\n",
              "      <td>16.0</td>\n",
              "      <td>2.1</td>\n",
              "      <td>0.0</td>\n",
              "      <td>13.4</td>\n",
              "      <td>2.0</td>\n",
              "      <td>...</td>\n",
              "      <td>0.0</td>\n",
              "      <td>0.0</td>\n",
              "      <td>0.0</td>\n",
              "      <td>1.0</td>\n",
              "      <td>0.0</td>\n",
              "      <td>0.0</td>\n",
              "      <td>0.0</td>\n",
              "      <td>0.0</td>\n",
              "      <td>6.0</td>\n",
              "      <td>1.0</td>\n",
              "    </tr>\n",
              "    <tr>\n",
              "      <th>3</th>\n",
              "      <td>134.0</td>\n",
              "      <td>134.0</td>\n",
              "      <td>2.0</td>\n",
              "      <td>0.0</td>\n",
              "      <td>6.0</td>\n",
              "      <td>16.0</td>\n",
              "      <td>2.4</td>\n",
              "      <td>0.0</td>\n",
              "      <td>23.0</td>\n",
              "      <td>2.0</td>\n",
              "      <td>...</td>\n",
              "      <td>0.0</td>\n",
              "      <td>0.0</td>\n",
              "      <td>0.0</td>\n",
              "      <td>1.0</td>\n",
              "      <td>0.0</td>\n",
              "      <td>0.0</td>\n",
              "      <td>0.0</td>\n",
              "      <td>0.0</td>\n",
              "      <td>6.0</td>\n",
              "      <td>1.0</td>\n",
              "    </tr>\n",
              "    <tr>\n",
              "      <th>4</th>\n",
              "      <td>132.0</td>\n",
              "      <td>132.0</td>\n",
              "      <td>4.0</td>\n",
              "      <td>0.0</td>\n",
              "      <td>5.0</td>\n",
              "      <td>16.0</td>\n",
              "      <td>2.4</td>\n",
              "      <td>0.0</td>\n",
              "      <td>19.9</td>\n",
              "      <td>0.0</td>\n",
              "      <td>...</td>\n",
              "      <td>0.0</td>\n",
              "      <td>0.0</td>\n",
              "      <td>0.0</td>\n",
              "      <td>0.0</td>\n",
              "      <td>0.0</td>\n",
              "      <td>0.0</td>\n",
              "      <td>0.0</td>\n",
              "      <td>0.0</td>\n",
              "      <td>2.0</td>\n",
              "      <td>1.0</td>\n",
              "    </tr>\n",
              "  </tbody>\n",
              "</table>\n",
              "<p>5 rows × 35 columns</p>\n",
              "</div>\n",
              "      <button class=\"colab-df-convert\" onclick=\"convertToInteractive('df-e73b8d72-3be8-48c9-8cd8-2125ed555a09')\"\n",
              "              title=\"Convert this dataframe to an interactive table.\"\n",
              "              style=\"display:none;\">\n",
              "        \n",
              "  <svg xmlns=\"http://www.w3.org/2000/svg\" height=\"24px\"viewBox=\"0 0 24 24\"\n",
              "       width=\"24px\">\n",
              "    <path d=\"M0 0h24v24H0V0z\" fill=\"none\"/>\n",
              "    <path d=\"M18.56 5.44l.94 2.06.94-2.06 2.06-.94-2.06-.94-.94-2.06-.94 2.06-2.06.94zm-11 1L8.5 8.5l.94-2.06 2.06-.94-2.06-.94L8.5 2.5l-.94 2.06-2.06.94zm10 10l.94 2.06.94-2.06 2.06-.94-2.06-.94-.94-2.06-.94 2.06-2.06.94z\"/><path d=\"M17.41 7.96l-1.37-1.37c-.4-.4-.92-.59-1.43-.59-.52 0-1.04.2-1.43.59L10.3 9.45l-7.72 7.72c-.78.78-.78 2.05 0 2.83L4 21.41c.39.39.9.59 1.41.59.51 0 1.02-.2 1.41-.59l7.78-7.78 2.81-2.81c.8-.78.8-2.07 0-2.86zM5.41 20L4 18.59l7.72-7.72 1.47 1.35L5.41 20z\"/>\n",
              "  </svg>\n",
              "      </button>\n",
              "      \n",
              "  <style>\n",
              "    .colab-df-container {\n",
              "      display:flex;\n",
              "      flex-wrap:wrap;\n",
              "      gap: 12px;\n",
              "    }\n",
              "\n",
              "    .colab-df-convert {\n",
              "      background-color: #E8F0FE;\n",
              "      border: none;\n",
              "      border-radius: 50%;\n",
              "      cursor: pointer;\n",
              "      display: none;\n",
              "      fill: #1967D2;\n",
              "      height: 32px;\n",
              "      padding: 0 0 0 0;\n",
              "      width: 32px;\n",
              "    }\n",
              "\n",
              "    .colab-df-convert:hover {\n",
              "      background-color: #E2EBFA;\n",
              "      box-shadow: 0px 1px 2px rgba(60, 64, 67, 0.3), 0px 1px 3px 1px rgba(60, 64, 67, 0.15);\n",
              "      fill: #174EA6;\n",
              "    }\n",
              "\n",
              "    [theme=dark] .colab-df-convert {\n",
              "      background-color: #3B4455;\n",
              "      fill: #D2E3FC;\n",
              "    }\n",
              "\n",
              "    [theme=dark] .colab-df-convert:hover {\n",
              "      background-color: #434B5C;\n",
              "      box-shadow: 0px 1px 3px 1px rgba(0, 0, 0, 0.15);\n",
              "      filter: drop-shadow(0px 1px 2px rgba(0, 0, 0, 0.3));\n",
              "      fill: #FFFFFF;\n",
              "    }\n",
              "  </style>\n",
              "\n",
              "      <script>\n",
              "        const buttonEl =\n",
              "          document.querySelector('#df-e73b8d72-3be8-48c9-8cd8-2125ed555a09 button.colab-df-convert');\n",
              "        buttonEl.style.display =\n",
              "          google.colab.kernel.accessAllowed ? 'block' : 'none';\n",
              "\n",
              "        async function convertToInteractive(key) {\n",
              "          const element = document.querySelector('#df-e73b8d72-3be8-48c9-8cd8-2125ed555a09');\n",
              "          const dataTable =\n",
              "            await google.colab.kernel.invokeFunction('convertToInteractive',\n",
              "                                                     [key], {});\n",
              "          if (!dataTable) return;\n",
              "\n",
              "          const docLinkHtml = 'Like what you see? Visit the ' +\n",
              "            '<a target=\"_blank\" href=https://colab.research.google.com/notebooks/data_table.ipynb>data table notebook</a>'\n",
              "            + ' to learn more about interactive tables.';\n",
              "          element.innerHTML = '';\n",
              "          dataTable['output_type'] = 'display_data';\n",
              "          await google.colab.output.renderOutput(dataTable, element);\n",
              "          const docLink = document.createElement('div');\n",
              "          docLink.innerHTML = docLinkHtml;\n",
              "          element.appendChild(docLink);\n",
              "        }\n",
              "      </script>\n",
              "    </div>\n",
              "  </div>\n",
              "  "
            ]
          },
          "metadata": {},
          "execution_count": 14
        }
      ]
    },
    {
      "metadata": {
        "trusted": true,
        "id": "ukm6JrdXIWe6",
        "outputId": "9174353d-42a6-4363-a959-63ffaa907e29",
        "colab": {
          "base_uri": "https://localhost:8080/"
        }
      },
      "cell_type": "code",
      "source": [
        "df.columns"
      ],
      "execution_count": 15,
      "outputs": [
        {
          "output_type": "execute_result",
          "data": {
            "text/plain": [
              "Index(['LBE', 'LB', 'AC', 'FM', 'UC', 'ASTV', 'MSTV', 'ALTV', 'MLTV', 'DL',\n",
              "       'DS', 'DP', 'DR', 'Width', 'Min', 'Max', 'Nmax', 'Nzeros', 'Mode',\n",
              "       'Mean', 'Median', 'Variance', 'Tendency', 'A', 'B', 'C', 'D', 'E', 'AD',\n",
              "       'DE', 'LD', 'FS', 'SUSP', 'CLASS', 'NSP'],\n",
              "      dtype='object')"
            ]
          },
          "metadata": {},
          "execution_count": 15
        }
      ]
    },
    {
      "metadata": {
        "trusted": true,
        "id": "tOStuwOLIWe7",
        "outputId": "05788cb7-5c79-4609-c1b7-580689e6aeb5",
        "colab": {
          "base_uri": "https://localhost:8080/"
        }
      },
      "cell_type": "code",
      "source": [
        "df.shape"
      ],
      "execution_count": 16,
      "outputs": [
        {
          "output_type": "execute_result",
          "data": {
            "text/plain": [
              "(2129, 35)"
            ]
          },
          "metadata": {},
          "execution_count": 16
        }
      ]
    },
    {
      "metadata": {
        "trusted": true,
        "id": "So9iKPemIWe7",
        "outputId": "2fd95b64-9baa-489a-9bfe-dfd90c6f2500",
        "colab": {
          "base_uri": "https://localhost:8080/"
        }
      },
      "cell_type": "code",
      "source": [
        "df.isnull().sum()"
      ],
      "execution_count": 17,
      "outputs": [
        {
          "output_type": "execute_result",
          "data": {
            "text/plain": [
              "LBE         3\n",
              "LB          3\n",
              "AC          3\n",
              "FM          2\n",
              "UC          2\n",
              "ASTV        2\n",
              "MSTV        2\n",
              "ALTV        2\n",
              "MLTV        2\n",
              "DL          1\n",
              "DS          1\n",
              "DP          1\n",
              "DR          1\n",
              "Width       3\n",
              "Min         3\n",
              "Max         3\n",
              "Nmax        3\n",
              "Nzeros      3\n",
              "Mode        3\n",
              "Mean        3\n",
              "Median      3\n",
              "Variance    3\n",
              "Tendency    3\n",
              "A           3\n",
              "B           3\n",
              "C           3\n",
              "D           3\n",
              "E           3\n",
              "AD          3\n",
              "DE          3\n",
              "LD          3\n",
              "FS          3\n",
              "SUSP        3\n",
              "CLASS       3\n",
              "NSP         3\n",
              "dtype: int64"
            ]
          },
          "metadata": {},
          "execution_count": 17
        }
      ]
    },
    {
      "metadata": {
        "trusted": true,
        "id": "3DEuh0O5IWe8"
      },
      "cell_type": "code",
      "source": [
        "df=df.dropna()"
      ],
      "execution_count": 18,
      "outputs": []
    },
    {
      "metadata": {
        "trusted": true,
        "id": "J9zDlUcDIWe8",
        "outputId": "f2346fd6-1f21-48e7-a1c3-2e545550345d",
        "colab": {
          "base_uri": "https://localhost:8080/"
        }
      },
      "cell_type": "code",
      "source": [
        "df.isnull().sum()"
      ],
      "execution_count": 19,
      "outputs": [
        {
          "output_type": "execute_result",
          "data": {
            "text/plain": [
              "LBE         0\n",
              "LB          0\n",
              "AC          0\n",
              "FM          0\n",
              "UC          0\n",
              "ASTV        0\n",
              "MSTV        0\n",
              "ALTV        0\n",
              "MLTV        0\n",
              "DL          0\n",
              "DS          0\n",
              "DP          0\n",
              "DR          0\n",
              "Width       0\n",
              "Min         0\n",
              "Max         0\n",
              "Nmax        0\n",
              "Nzeros      0\n",
              "Mode        0\n",
              "Mean        0\n",
              "Median      0\n",
              "Variance    0\n",
              "Tendency    0\n",
              "A           0\n",
              "B           0\n",
              "C           0\n",
              "D           0\n",
              "E           0\n",
              "AD          0\n",
              "DE          0\n",
              "LD          0\n",
              "FS          0\n",
              "SUSP        0\n",
              "CLASS       0\n",
              "NSP         0\n",
              "dtype: int64"
            ]
          },
          "metadata": {},
          "execution_count": 19
        }
      ]
    },
    {
      "metadata": {
        "trusted": true,
        "id": "bqBvX4wjIWe8",
        "outputId": "c3230ff8-f863-42b3-fd77-e500e394278b",
        "colab": {
          "base_uri": "https://localhost:8080/"
        }
      },
      "cell_type": "code",
      "source": [
        "df.dtypes"
      ],
      "execution_count": 20,
      "outputs": [
        {
          "output_type": "execute_result",
          "data": {
            "text/plain": [
              "LBE         float64\n",
              "LB          float64\n",
              "AC          float64\n",
              "FM          float64\n",
              "UC          float64\n",
              "ASTV        float64\n",
              "MSTV        float64\n",
              "ALTV        float64\n",
              "MLTV        float64\n",
              "DL          float64\n",
              "DS          float64\n",
              "DP          float64\n",
              "DR          float64\n",
              "Width       float64\n",
              "Min         float64\n",
              "Max         float64\n",
              "Nmax        float64\n",
              "Nzeros      float64\n",
              "Mode        float64\n",
              "Mean        float64\n",
              "Median      float64\n",
              "Variance    float64\n",
              "Tendency    float64\n",
              "A           float64\n",
              "B           float64\n",
              "C           float64\n",
              "D           float64\n",
              "E           float64\n",
              "AD          float64\n",
              "DE          float64\n",
              "LD          float64\n",
              "FS          float64\n",
              "SUSP        float64\n",
              "CLASS       float64\n",
              "NSP         float64\n",
              "dtype: object"
            ]
          },
          "metadata": {},
          "execution_count": 20
        }
      ]
    },
    {
      "metadata": {
        "trusted": true,
        "id": "OEDk4aMKIWe9"
      },
      "cell_type": "code",
      "source": [
        "X=df[['LBE', 'LB', 'AC', 'FM', 'UC', 'DL',\n",
        "       'DS', 'DP', 'DR']]\n",
        "Y=df[[\"NSP\"]]"
      ],
      "execution_count": 21,
      "outputs": []
    },
    {
      "metadata": {
        "id": "j2gESkLGIWe-"
      },
      "cell_type": "markdown",
      "source": [
        "## Peforming the scaling"
      ]
    },
    {
      "metadata": {
        "trusted": true,
        "id": "_Rh1T0aXIWe-"
      },
      "cell_type": "code",
      "source": [
        "from sklearn.preprocessing import StandardScaler, MinMaxScaler\n",
        "Scaler=StandardScaler()\n",
        "X=Scaler.fit_transform(X)\n"
      ],
      "execution_count": 22,
      "outputs": []
    },
    {
      "metadata": {
        "trusted": true,
        "id": "Xh28TE6PIWe-"
      },
      "cell_type": "code",
      "source": [
        "\n",
        "from sklearn.model_selection import train_test_split\n",
        "X_train,X_test,y_train,y_test=train_test_split(X,Y,test_size=0.3,random_state=42)"
      ],
      "execution_count": 23,
      "outputs": []
    },
    {
      "metadata": {
        "id": "ECOD_a0PIWe_"
      },
      "cell_type": "markdown",
      "source": [
        "## Classifiying the NSP into, Normal=1; Suspect=2; Pathologic=3"
      ]
    },
    {
      "metadata": {
        "id": "gI9hE1_9IWe_"
      },
      "cell_type": "markdown",
      "source": [
        "### CHecking for appropriate values of gamma"
      ]
    },
    {
      "metadata": {
        "trusted": true,
        "id": "UZkgOEFkIWfA"
      },
      "cell_type": "code",
      "source": [
        "from sklearn.svm import SVC\n",
        "\n",
        "svm_clf=SVC(kernel=\"poly\",degree=6,coef0=5,gamma=0.1)\n",
        "svm_clf=svm_clf.fit(X_train,y_train)\n",
        "y_pred=svm_clf.predict(X_test)\n"
      ],
      "execution_count": 24,
      "outputs": []
    },
    {
      "metadata": {
        "id": "2LsA1vQjIWfA"
      },
      "cell_type": "markdown",
      "source": [
        "## Calculating different metrics"
      ]
    },
    {
      "metadata": {
        "trusted": true,
        "id": "qYv1xGztIWfB"
      },
      "cell_type": "code",
      "source": [
        "from sklearn.metrics import accuracy_score, precision_score, f1_score, recall_score, confusion_matrix"
      ],
      "execution_count": 25,
      "outputs": []
    },
    {
      "metadata": {
        "trusted": true,
        "id": "aERq6ervIWfB",
        "outputId": "d4167423-f44d-4f55-971d-d4edb298784d",
        "colab": {
          "base_uri": "https://localhost:8080/"
        }
      },
      "cell_type": "code",
      "source": [
        "print(confusion_matrix(y_test,y_pred))"
      ],
      "execution_count": 26,
      "outputs": [
        {
          "output_type": "stream",
          "name": "stdout",
          "text": [
            "[[470  20   6]\n",
            " [ 29  62  10]\n",
            " [  8   5  28]]\n"
          ]
        }
      ]
    },
    {
      "metadata": {
        "trusted": true,
        "id": "9dqpaU7BIWfB",
        "outputId": "158affc2-4a43-4aab-89e0-c331c2f8025d",
        "colab": {
          "base_uri": "https://localhost:8080/"
        }
      },
      "cell_type": "code",
      "source": [
        "f1_score(y_test,y_pred,average='weighted')"
      ],
      "execution_count": 27,
      "outputs": [
        {
          "output_type": "execute_result",
          "data": {
            "text/plain": [
              "0.8753514883881671"
            ]
          },
          "metadata": {},
          "execution_count": 27
        }
      ]
    },
    {
      "metadata": {
        "trusted": true,
        "id": "GTqDV_uzIWfC",
        "outputId": "d8d517ab-9b0e-4e56-a59a-a1d02336c813",
        "colab": {
          "base_uri": "https://localhost:8080/"
        }
      },
      "cell_type": "code",
      "source": [
        "\n",
        "accuracy_score(y_test,y_pred)"
      ],
      "execution_count": 28,
      "outputs": [
        {
          "output_type": "execute_result",
          "data": {
            "text/plain": [
              "0.877742946708464"
            ]
          },
          "metadata": {},
          "execution_count": 28
        }
      ]
    },
    {
      "metadata": {
        "trusted": true,
        "id": "_2CP5PQtIWfC",
        "outputId": "2c6bdd52-e6a3-4e48-b46d-c04226613207",
        "colab": {
          "base_uri": "https://localhost:8080/"
        }
      },
      "cell_type": "code",
      "source": [
        "precision_score(y_test,y_pred,average='weighted')"
      ],
      "execution_count": 29,
      "outputs": [
        {
          "output_type": "execute_result",
          "data": {
            "text/plain": [
              "0.8744054575648664"
            ]
          },
          "metadata": {},
          "execution_count": 29
        }
      ]
    },
    {
      "metadata": {
        "trusted": true,
        "id": "wEd-NC7hIWfD",
        "outputId": "d000f660-5988-4949-82be-7d91a94663fb",
        "colab": {
          "base_uri": "https://localhost:8080/"
        }
      },
      "cell_type": "code",
      "source": [
        "recall_score(y_test,y_pred,average=\"weighted\")"
      ],
      "execution_count": 30,
      "outputs": [
        {
          "output_type": "execute_result",
          "data": {
            "text/plain": [
              "0.877742946708464"
            ]
          },
          "metadata": {},
          "execution_count": 30
        }
      ]
    },
    {
      "metadata": {
        "id": "wo-iZ_MQIWfD"
      },
      "cell_type": "markdown",
      "source": [
        "# Decision Tree Classifier"
      ]
    },
    {
      "metadata": {
        "trusted": true,
        "id": "Ky86xUMVIWfD"
      },
      "cell_type": "code",
      "source": [
        "from sklearn.tree import DecisionTreeClassifier"
      ],
      "execution_count": 31,
      "outputs": []
    },
    {
      "metadata": {
        "trusted": true,
        "id": "F9wn2cgSIWfE"
      },
      "cell_type": "code",
      "source": [
        "tree_clf=DecisionTreeClassifier(min_samples_split=6, min_samples_leaf=4, max_depth=6, )\n",
        "tree_clf=tree_clf.fit(X_train,y_train)\n",
        "y_pred=tree_clf.predict(X_test)"
      ],
      "execution_count": 32,
      "outputs": []
    },
    {
      "metadata": {
        "trusted": true,
        "id": "fgEARoOgIWfE",
        "outputId": "1fdec268-592a-47b1-b0c5-d7b995291f65",
        "colab": {
          "base_uri": "https://localhost:8080/"
        }
      },
      "cell_type": "code",
      "source": [
        "accuracy_score(y_test,y_pred)"
      ],
      "execution_count": 33,
      "outputs": [
        {
          "output_type": "execute_result",
          "data": {
            "text/plain": [
              "0.8683385579937304"
            ]
          },
          "metadata": {},
          "execution_count": 33
        }
      ]
    },
    {
      "metadata": {
        "trusted": true,
        "id": "6dCT6CQfIWfE",
        "outputId": "33489f53-1522-4056-b706-3ec3dd2eb348",
        "colab": {
          "base_uri": "https://localhost:8080/"
        }
      },
      "cell_type": "code",
      "source": [
        "recall_score(y_test,y_pred,average=\"weighted\")"
      ],
      "execution_count": 34,
      "outputs": [
        {
          "output_type": "execute_result",
          "data": {
            "text/plain": [
              "0.8683385579937304"
            ]
          },
          "metadata": {},
          "execution_count": 34
        }
      ]
    },
    {
      "metadata": {
        "trusted": true,
        "id": "D2AuYNfwIWfF",
        "outputId": "a66023af-7a37-4675-c1bd-c8573301f0b2",
        "colab": {
          "base_uri": "https://localhost:8080/"
        }
      },
      "cell_type": "code",
      "source": [
        "precision_score(y_test,y_pred,average='weighted')"
      ],
      "execution_count": 35,
      "outputs": [
        {
          "output_type": "execute_result",
          "data": {
            "text/plain": [
              "0.8603398399877494"
            ]
          },
          "metadata": {},
          "execution_count": 35
        }
      ]
    },
    {
      "metadata": {
        "trusted": true,
        "id": "u5vdu1OFIWfF"
      },
      "cell_type": "code",
      "source": [
        "from sklearn.tree import export_graphviz\n",
        "export_graphviz(\n",
        "tree_clf, out_file=\"tree.dot\",\n",
        "feature_names=['LBE', 'LB', 'AC', 'FM', 'UC', 'DL',\n",
        "       'DS', 'DP', 'DR'],\n",
        "class_names=\"NSP\",\n",
        "rounded=True,\n",
        "filled=True)"
      ],
      "execution_count": 36,
      "outputs": []
    },
    {
      "metadata": {
        "trusted": true,
        "id": "-6bizU-EIWfH",
        "outputId": "ecf60938-b5a7-4f8d-e355-e5fc7f2c4a60",
        "colab": {
          "base_uri": "https://localhost:8080/"
        }
      },
      "cell_type": "code",
      "source": [
        "from subprocess import check_call\n",
        "check_call(['dot','-Tpng','tree.dot','-o','tree.png'])"
      ],
      "execution_count": 37,
      "outputs": [
        {
          "output_type": "execute_result",
          "data": {
            "text/plain": [
              "0"
            ]
          },
          "metadata": {},
          "execution_count": 37
        }
      ]
    },
    {
      "metadata": {
        "trusted": true,
        "id": "h3UXmLFXIWfI"
      },
      "cell_type": "code",
      "source": [
        ""
      ],
      "execution_count": 37,
      "outputs": []
    },
    {
      "metadata": {
        "id": "kBUKG9yjIWfJ"
      },
      "cell_type": "markdown",
      "source": [
        "# Using the ensemble technique"
      ]
    },
    {
      "metadata": {
        "trusted": true,
        "id": "Ur6s9KJdIWfK"
      },
      "cell_type": "code",
      "source": [
        "from sklearn.ensemble import VotingClassifier, RandomForestClassifier"
      ],
      "execution_count": 38,
      "outputs": []
    },
    {
      "metadata": {
        "trusted": true,
        "id": "H6aPV2I4IWfL"
      },
      "cell_type": "code",
      "source": [
        "svm_clf=SVC(kernel=\"poly\",degree=6,coef0=5,gamma=0.1,probability=True)\n",
        "decision_tree=DecisionTreeClassifier(min_samples_split=6, min_samples_leaf=4, max_depth=6)\n",
        "rnd_clf=RandomForestClassifier()\n",
        "voting_clf=VotingClassifier(estimators=[(\"svm\",svm_clf),('rf',rnd_clf),(\"decision_tree\",decision_tree)],voting=\"hard\")"
      ],
      "execution_count": 39,
      "outputs": []
    },
    {
      "metadata": {
        "trusted": true,
        "id": "7KyKnrLwIWfM",
        "outputId": "cf0ddc93-39ac-49b7-fe5b-a7c868cf5c9a",
        "colab": {
          "base_uri": "https://localhost:8080/"
        }
      },
      "cell_type": "code",
      "source": [
        "voting_clf.fit(X_train,y_train)"
      ],
      "execution_count": 40,
      "outputs": [
        {
          "output_type": "execute_result",
          "data": {
            "text/plain": [
              "VotingClassifier(estimators=[('svm',\n",
              "                              SVC(coef0=5, degree=6, gamma=0.1, kernel='poly',\n",
              "                                  probability=True)),\n",
              "                             ('rf', RandomForestClassifier()),\n",
              "                             ('decision_tree',\n",
              "                              DecisionTreeClassifier(max_depth=6,\n",
              "                                                     min_samples_leaf=4,\n",
              "                                                     min_samples_split=6))])"
            ]
          },
          "metadata": {},
          "execution_count": 40
        }
      ]
    },
    {
      "metadata": {
        "trusted": true,
        "id": "cDtgrh5SIWfM",
        "outputId": "ac615ca8-5241-42e9-899e-402a8f75db0f",
        "colab": {
          "base_uri": "https://localhost:8080/"
        }
      },
      "cell_type": "code",
      "source": [
        "for clf in (rnd_clf, svm_clf,decision_tree, voting_clf):\n",
        "    clf.fit(X_train, y_train)\n",
        "    y_pred = clf.predict(X_test)\n",
        "    print(clf.__class__.__name__, accuracy_score(y_test, y_pred))"
      ],
      "execution_count": 41,
      "outputs": [
        {
          "output_type": "stream",
          "name": "stdout",
          "text": [
            "RandomForestClassifier 0.8714733542319749\n",
            "SVC 0.877742946708464\n",
            "DecisionTreeClassifier 0.8683385579937304\n",
            "VotingClassifier 0.8871473354231975\n"
          ]
        }
      ]
    },
    {
      "metadata": {
        "id": "UT36lJ4nIWfN"
      },
      "cell_type": "markdown",
      "source": [
        "## As, we can observe that there is a slight increase in the overall acuracy while using the ensemble model."
      ]
    },
    {
      "metadata": {
        "trusted": true,
        "id": "j9MmJvA2IWfN"
      },
      "cell_type": "code",
      "source": [
        "from sklearn.ensemble import BaggingClassifier"
      ],
      "execution_count": 42,
      "outputs": []
    },
    {
      "metadata": {
        "trusted": true,
        "id": "rZrOs5mgIWfO"
      },
      "cell_type": "code",
      "source": [
        "bag_clf=BaggingClassifier(DecisionTreeClassifier(),n_estimators=500,n_jobs=-1,max_samples=100, bootstrap=True)"
      ],
      "execution_count": 43,
      "outputs": []
    },
    {
      "metadata": {
        "trusted": true,
        "id": "Rk2gSqwAIWfP"
      },
      "cell_type": "code",
      "source": [
        "bag_clf.fit(X_train,y_train)\n",
        "y_pred=bag_clf.predict(X_test)"
      ],
      "execution_count": 44,
      "outputs": []
    },
    {
      "metadata": {
        "trusted": true,
        "id": "C48OEUb1IWfP",
        "outputId": "d086d22d-3deb-4750-eccd-33df315525fe",
        "colab": {
          "base_uri": "https://localhost:8080/"
        }
      },
      "cell_type": "code",
      "source": [
        "print(accuracy_score(y_test,y_pred))"
      ],
      "execution_count": 45,
      "outputs": [
        {
          "output_type": "stream",
          "name": "stdout",
          "text": [
            "0.8683385579937304\n"
          ]
        }
      ]
    },
    {
      "metadata": {
        "trusted": true,
        "id": "4B2Xq9hpIWfP"
      },
      "cell_type": "code",
      "source": [
        "##This accuracy is better than our previous decision tree model\n",
        "##Therefore, we will again call ensemble technique."
      ],
      "execution_count": 46,
      "outputs": []
    },
    {
      "metadata": {
        "trusted": true,
        "id": "1U-K1cNBIWfQ"
      },
      "cell_type": "code",
      "source": [
        "voting_clf=VotingClassifier(estimators=[(\"svm\",svm_clf),('rf',rnd_clf),(\"bagging_clf\",bag_clf)],voting=\"hard\")"
      ],
      "execution_count": 47,
      "outputs": []
    },
    {
      "metadata": {
        "trusted": true,
        "id": "SPWmMTxTIWfQ",
        "outputId": "03486629-ed4f-4c82-9d71-2daa3f9f9189",
        "colab": {
          "base_uri": "https://localhost:8080/"
        }
      },
      "cell_type": "code",
      "source": [
        "for clf in (rnd_clf, svm_clf,bag_clf, voting_clf):\n",
        "    clf.fit(X_train, y_train)\n",
        "    y_pred = clf.predict(X_test)\n",
        "    print(clf.__class__.__name__, accuracy_score(y_test, y_pred))"
      ],
      "execution_count": 48,
      "outputs": [
        {
          "output_type": "stream",
          "name": "stdout",
          "text": [
            "RandomForestClassifier 0.8652037617554859\n",
            "SVC 0.877742946708464\n",
            "BaggingClassifier 0.8714733542319749\n",
            "VotingClassifier 0.8855799373040752\n"
          ]
        }
      ]
    },
    {
      "metadata": {
        "trusted": true,
        "id": "VqyP6cr7IWfQ"
      },
      "cell_type": "code",
      "source": [
        "##Using trial and hit method, and performing out-of-box evaluation\n",
        "##Since a predictor never sees the oob instances during training, it can be evaluated on these instances,\n",
        "##without the need for a separate validation set or cross-validation. You can evaluate the ensemble itself by\n",
        "##averaging out the oob evaluations of each predictor."
      ],
      "execution_count": 49,
      "outputs": []
    },
    {
      "metadata": {
        "trusted": true,
        "id": "rwkwrINoIWfR",
        "outputId": "fad58dc9-59ff-48b0-bbbc-757007b094e2",
        "colab": {
          "base_uri": "https://localhost:8080/"
        }
      },
      "cell_type": "code",
      "source": [
        "bag_clf=BaggingClassifier(DecisionTreeClassifier(),n_estimators=500,n_jobs=-1,max_samples=100, bootstrap=True,oob_score=True)\n",
        "bag_clf.fit(X_train,y_train)\n",
        "y_pred=bag_clf.predict(X_test)\n",
        "print(bag_clf.oob_score_)\n",
        "print(accuracy_score(y_test,y_pred))"
      ],
      "execution_count": 50,
      "outputs": [
        {
          "output_type": "stream",
          "name": "stdout",
          "text": [
            "0.8649193548387096\n",
            "0.8761755485893417\n"
          ]
        }
      ]
    },
    {
      "metadata": {
        "id": "fy_8AEBdIWfR"
      },
      "cell_type": "markdown",
      "source": [
        "# Applying the ADAboost "
      ]
    },
    {
      "metadata": {
        "trusted": true,
        "id": "PbbliMfaIWfR"
      },
      "cell_type": "code",
      "source": [
        "from sklearn.ensemble import AdaBoostClassifier"
      ],
      "execution_count": 51,
      "outputs": []
    },
    {
      "metadata": {
        "trusted": true,
        "id": "IHDbME23IWfR"
      },
      "cell_type": "code",
      "source": [
        "ada_clf=AdaBoostClassifier(DecisionTreeClassifier(max_depth=1),n_estimators=1000,learning_rate=0.1)"
      ],
      "execution_count": 52,
      "outputs": []
    },
    {
      "metadata": {
        "trusted": true,
        "id": "SvZzsuHJIWfR"
      },
      "cell_type": "code",
      "source": [
        "ada_clf.fit(X_train,y_train)\n",
        "y_pred=ada_clf.predict(X_test)"
      ],
      "execution_count": 53,
      "outputs": []
    },
    {
      "metadata": {
        "trusted": true,
        "id": "VHVdEO11IWfS",
        "outputId": "cfe0d45d-60fc-4e56-9858-75c756751644",
        "colab": {
          "base_uri": "https://localhost:8080/"
        }
      },
      "cell_type": "code",
      "source": [
        "print(accuracy_score(y_test,y_pred))"
      ],
      "execution_count": 54,
      "outputs": [
        {
          "output_type": "stream",
          "name": "stdout",
          "text": [
            "0.8620689655172413\n"
          ]
        }
      ]
    },
    {
      "metadata": {
        "id": "YbV9D-BKIWfS"
      },
      "cell_type": "markdown",
      "source": [
        "# Applying XGBoost"
      ]
    },
    {
      "metadata": {
        "trusted": true,
        "id": "IWMW6QUXIWfS"
      },
      "cell_type": "code",
      "source": [
        "from xgboost import XGBClassifier\n",
        "xgb_clf=XGBClassifier(learning_rate=0.001)\n",
        "xgb_clf.fit(X_train,y_train)\n",
        "y_pred=xgb_clf.predict(X_test)"
      ],
      "execution_count": 55,
      "outputs": []
    },
    {
      "metadata": {
        "trusted": true,
        "id": "h9gR1YIuIWfT",
        "outputId": "b14c4606-b84e-4cc2-a238-b8dca6ddd749",
        "colab": {
          "base_uri": "https://localhost:8080/"
        }
      },
      "cell_type": "code",
      "source": [
        "print(accuracy_score(y_test,y_pred))"
      ],
      "execution_count": 56,
      "outputs": [
        {
          "output_type": "stream",
          "name": "stdout",
          "text": [
            "0.8495297805642633\n"
          ]
        }
      ]
    },
    {
      "metadata": {
        "trusted": true,
        "id": "iy_lFLgqIWfT"
      },
      "cell_type": "code",
      "source": [
        "voting_clf=VotingClassifier(estimators=[(\"svm\",svm_clf),(\"xgb_clf\",xgb_clf)],voting=\"hard\")\n"
      ],
      "execution_count": 57,
      "outputs": []
    },
    {
      "metadata": {
        "trusted": true,
        "id": "s9LtZNemIWfT",
        "outputId": "039213d6-f909-48c6-cc84-78f8ab1fa9f0",
        "colab": {
          "base_uri": "https://localhost:8080/"
        }
      },
      "cell_type": "code",
      "source": [
        "for clf in (svm_clf,xgb_clf, voting_clf):\n",
        "    clf.fit(X_train, y_train)\n",
        "    y_pred = clf.predict(X_test)\n",
        "    print(clf.__class__.__name__, accuracy_score(y_test, y_pred))"
      ],
      "execution_count": 58,
      "outputs": [
        {
          "output_type": "stream",
          "name": "stdout",
          "text": [
            "SVC 0.877742946708464\n",
            "XGBClassifier 0.8495297805642633\n",
            "VotingClassifier 0.8510971786833855\n"
          ]
        }
      ]
    },
    {
      "metadata": {
        "trusted": true,
        "id": "Qvc4zjJqIWfT"
      },
      "cell_type": "code",
      "source": [
        ""
      ],
      "execution_count": null,
      "outputs": []
    }
  ],
  "metadata": {
    "kernelspec": {
      "display_name": "Python 3",
      "language": "python",
      "name": "python3"
    },
    "language_info": {
      "codemirror_mode": {
        "name": "ipython",
        "version": 3
      },
      "file_extension": ".py",
      "mimetype": "text/x-python",
      "name": "python",
      "nbconvert_exporter": "python",
      "pygments_lexer": "ipython3",
      "version": "3.7.4"
    },
    "colab": {
      "name": "FHR_tree_svm_ensemble.ipynb",
      "provenance": []
    }
  },
  "nbformat": 4,
  "nbformat_minor": 0
}
